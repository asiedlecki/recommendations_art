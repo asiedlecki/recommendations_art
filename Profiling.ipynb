{
 "cells": [
  {
   "cell_type": "code",
   "execution_count": 5,
   "metadata": {},
   "outputs": [],
   "source": [
    "import recommendations as rec\n",
    "import similarity as sim\n",
    "import cProfile\n",
    "from numba import jit"
   ]
  },
  {
   "cell_type": "code",
   "execution_count": 6,
   "metadata": {},
   "outputs": [],
   "source": [
    "! python -m cProfile -s cumtime exec_2.py"
   ]
  },
  {
   "cell_type": "markdown",
   "metadata": {},
   "source": [
    "#### logi testów"
   ]
  },
  {
   "cell_type": "markdown",
   "metadata": {},
   "source": [
    "-  Wywołanie pliku exec_2.py z poniższą linijką kodu trwało ponad 413 sekund:\n",
    "\n",
    "rec.executeDictSimMovies(prefs_file='datasets/prefs.json', target_file='datasets/similar_movies_2019.json', quantile=0.998, distance=sim.pearson)\n",
    "\n",
    "         1260151978 function calls (1260104488 primitive calls) in 413.243 seconds\n",
    "\n",
    "   Ordered by: cumulative time\n",
    "\n",
    "   ncalls  tottime  percall  cumtime  percall filename:lineno(function)\n",
    "    415/1    0.011    0.000  413.243  413.243 {built-in method builtins.exec}\n",
    "        1    0.192    0.192  413.243  413.243 exec_2.py:4(<module>)\n",
    "        1    0.676    0.676  412.630  412.630 recommendations.py:178(executeDictSimMovies)\n",
    "        1    0.002    0.002  389.815  389.815 recommendations.py:96(buildRecomSet)\n",
    "       91    0.001    0.000  389.807    4.284 recommendations.py:10(topMatches)\n",
    "       91    1.908    0.021  389.804    4.284 recommendations.py:11(<listcomp>)\n",
    "     8190   66.046    0.008  387.896    0.047 similarity.py:21(pearson)\n",
    "    40951   58.420    0.001  302.205    0.007 {built-in method builtins.sum}\n",
    "157287324   43.642    0.000   70.581    0.000 similarity.py:48(<genexpr>)\n",
    "157287324   43.346    0.000   70.357    0.000 similarity.py:47(<genexpr>)\n",
    "314574648   53.954    0.000   53.954    0.000 {built-in method math.pow}\n",
    "157287324   47.637    0.000   47.637    0.000 similarity.py:43(<genexpr>)\n",
    "157287324   27.893    0.000   27.893    0.000 similarity.py:45(<genexpr>)\n",
    "157287324   27.317    0.000   27.317    0.000 similarity.py:44(<genexpr>)"
   ]
  },
  {
   "cell_type": "markdown",
   "metadata": {},
   "source": [
    "- Widząc, że najwięcej czasu pochłania wykonywanie funkcji z pliku similarity.py, przepiąłem się z samodzielnie napisanej korelacji Pearsona na wersję z biblioteki numpy. Czas zaledwie ponad 168 sekund!:\n",
    "\n",
    "rec.executeDictSimMovies(prefs_file='datasets/prefs.json', target_file='datasets/similar_movies_2019.json', quantile=0.998, distance=sim.pearson_numpy)\n",
    "\n",
    "159623920 function calls (159576430 primitive calls) in 168.622 seconds\n",
    "\n",
    "   Ordered by: cumulative time\n",
    "\n",
    "   ncalls  tottime  percall  cumtime  percall filename:lineno(function)\n",
    "    415/1    0.011    0.000  168.622  168.622 {built-in method builtins.exec}\n",
    "        1    0.166    0.166  168.622  168.622 exec_2.py:4(<module>)\n",
    "        1    0.675    0.675  168.037  168.037 recommendations.py:178(executeDictSimMovies)\n",
    "        1    0.002    0.002  145.382  145.382 recommendations.py:96(buildRecomSet)\n",
    "       91    0.001    0.000  145.375    1.598 recommendations.py:10(topMatches)\n",
    "       91    3.743    0.041  145.370    1.597 recommendations.py:11(<listcomp>)\n",
    "     8190   66.243    0.008  141.627    0.017 similarity.py:57(pearson_numpy)\n",
    "     8190   23.179    0.003   23.179    0.003 similarity.py:63(<listcomp>)\n",
    "        1    0.000    0.000   21.395   21.395 dataset.py:68(openJson)\n",
    "        1    0.039    0.039   21.395   21.395 __init__.py:274(load)\n",
    "     8190   20.877    0.003   20.877    0.003 similarity.py:64(<listcomp>)\n",
    "157279179   19.618    0.000   19.618    0.000 {method 'setdefault' of 'dict' objects}\n",
    "        3    0.000    0.000   16.851    5.617 __init__.py:302(loads)\n",
    "        3    0.000    0.000   16.851    5.617 decoder.py:334(decode)\n",
    "        3   16.851    5.617   16.851    5.617 decoder.py:345(raw_decode)\n",
    "     8190    0.205    0.000   11.603    0.001 function_base.py:3097(corrcoef)\n",
    "     8190    0.438    0.000   11.250    0.001 function_base.py:2888(cov)\n",
    "    90181    8.122    0.000    8.122    0.000 {built-in method numpy.core.multiarray.array}\n",
    "    16384    0.015    0.000    7.835    0.000 numeric.py:463(asarray)"
   ]
  },
  {
   "cell_type": "markdown",
   "metadata": {},
   "source": [
    "- Ponad 66 sekund spośród 168 sekund w totalu przypada na funkcję pearson_numpy (w której wywołuję pearsona z biblioteki numpy). W ramach tej funkcji aż ponad 44 sekundy to same operacje typu lista składana (listcomp)."
   ]
  },
  {
   "cell_type": "markdown",
   "metadata": {},
   "source": [
    "- zmieniam poniższą funkcję"
   ]
  },
  {
   "cell_type": "code",
   "execution_count": 8,
   "metadata": {},
   "outputs": [],
   "source": [
    "def pearson_numpy(prefs, pos1, pos2):\n",
    "    inter = {}\n",
    "    for item in prefs[pos1]:\n",
    "        if item in prefs[pos2]:\n",
    "            inter.setdefault(item)\n",
    "\n",
    "    x = [prefs[pos1][item] for item in inter]\n",
    "    y = [prefs[pos2][item] for item in inter]\n",
    "\n",
    "    r = np.corrcoef(x=x, y=y)\n",
    "\n",
    "    return round(r[0][1], 6)"
   ]
  },
  {
   "cell_type": "markdown",
   "metadata": {},
   "source": [
    "na:"
   ]
  },
  {
   "cell_type": "code",
   "execution_count": null,
   "metadata": {},
   "outputs": [],
   "source": [
    "def pearson_numpy(prefs, pos1, pos2):\n",
    "\n",
    "    inter = [item for item in prefs[pos1] if item in prefs[pos2]]\n",
    "    # inter = prefs[pos1].keys() & prefs[pos2].keys()\n",
    "\n",
    "    x = [prefs[pos1][item] for item in inter]\n",
    "    y = [prefs[pos2][item] for item in inter]\n",
    "\n",
    "    r = np.corrcoef(x=x, y=y)\n",
    "\n",
    "    return round(r[0][1], 6)"
   ]
  },
  {
   "cell_type": "markdown",
   "metadata": {},
   "source": [
    "Dzięki temu czas spadł z 168-170 sekund do 133-134 sekund. Dla oszczędności czasu obcinam parametr percentile do wartości 0.999. Wynik to 60-61 sekund.\n",
    "\n",
    "\n",
    "rec.executeDictSimMovies(prefs_file='datasets/prefs.json', target_file='datasets/similar_movies_2019_nd_array.json', percentile=0.999, distance=sim.pearson_numpy)\n",
    "\n",
    "\n",
    "1644987 function calls (1628097 primitive calls) in 60.451 seconds\n",
    "\n",
    "   Ordered by: cumulative time\n",
    "\n",
    "   ncalls  tottime  percall  cumtime  percall filename:lineno(function)\n",
    "    415/1    0.011    0.000   60.451   60.451 {built-in method builtins.exec}\n",
    "        1    0.129    0.129   60.451   60.451 exec_2.py:4(<module>)\n",
    "        1    0.730    0.730   59.918   59.918 recommendations.py:178(executeDictSimMovies)\n",
    "        1    0.001    0.001   37.107   37.107 recommendations.py:96(buildRecomSet)\n",
    "       46    0.000    0.000   37.103    0.807 recommendations.py:10(topMatches)\n",
    "       46    1.187    0.026   37.102    0.807 recommendations.py:11(<listcomp>)\n",
    "     2070    0.042    0.000   35.915    0.017 similarity.py:57(pearson_numpy)\n",
    "        1    0.000    0.000   21.577   21.577 dataset.py:68(openJson)\n",
    "        1    0.050    0.050   21.577   21.577 __init__.py:274(load)\n",
    "        3    0.000    0.000   16.999    5.666 __init__.py:302(loads)\n",
    "        3    0.000    0.000   16.999    5.666 decoder.py:334(decode)\n",
    "        3   16.999    5.666   16.999    5.666 decoder.py:345(raw_decode)\n",
    "     2070   16.519    0.008   16.519    0.008 similarity.py:59(<listcomp>)\n",
    "     2070    7.832    0.004    7.832    0.004 similarity.py:62(<listcomp>)\n",
    "     2070    7.641    0.004    7.641    0.004 similarity.py:63(<listcomp>)\n",
    "        1    1.764    1.764    4.528    4.528 {method 'read' of '_io.TextIOWrapper' objects}\n",
    "     2070    0.106    0.000    3.852    0.002 function_base.py:3097(corrcoef)\n",
    "     2070    0.130    0.000    3.705    0.002 function_base.py:2888(cov)\n",
    "    22861    2.974    0.000    2.974    0.000 {built-in method numpy.core.multiarray.array}\n",
    "     4144    0.005    0.000    2.865    0.001 numeric.py:463(asarray)\n",
    "        7    0.000    0.000    2.765    0.395 cp1252.py:22(decode)\n",
    "        7    2.765    0.395    2.765    0.395 {built-in method _codecs.charmap_decode}"
   ]
  },
  {
   "cell_type": "code",
   "execution_count": 15,
   "metadata": {},
   "outputs": [
    {
     "name": "stdout",
     "output_type": "stream",
     "text": [
      "0\n",
      "20\n",
      "40\n",
      "60\n",
      "80\n",
      "100\n",
      "120\n",
      "140\n",
      "160\n",
      "180\n",
      "200\n",
      "220\n",
      "240\n",
      "260\n",
      "280\n",
      "300\n",
      "320\n",
      "340\n",
      "360\n",
      "380\n",
      "400\n",
      "420\n",
      "440\n",
      "460\n",
      "480\n",
      "500\n",
      "520\n",
      "540\n",
      "560\n",
      "580\n",
      "600\n",
      "620\n",
      "640\n",
      "660\n",
      "680\n",
      "700\n",
      "720\n",
      "740\n",
      "760\n",
      "780\n",
      "800\n",
      "820\n",
      "840\n",
      "860\n",
      "880\n",
      "900\n",
      "920\n",
      "940\n",
      "960\n",
      "980\n"
     ]
    }
   ],
   "source": [
    "i = 0\n",
    "for i in range(1000):\n",
    "    if i % 20 == 0:\n",
    "        print(i)"
   ]
  },
  {
   "cell_type": "code",
   "execution_count": null,
   "metadata": {},
   "outputs": [],
   "source": []
  }
 ],
 "metadata": {
  "kernelspec": {
   "display_name": "Python [conda env:recommendations_ar]",
   "language": "python",
   "name": "conda-env-recommendations_ar-py"
  },
  "language_info": {
   "codemirror_mode": {
    "name": "ipython",
    "version": 3
   },
   "file_extension": ".py",
   "mimetype": "text/x-python",
   "name": "python",
   "nbconvert_exporter": "python",
   "pygments_lexer": "ipython3",
   "version": "3.6.8"
  }
 },
 "nbformat": 4,
 "nbformat_minor": 2
}
