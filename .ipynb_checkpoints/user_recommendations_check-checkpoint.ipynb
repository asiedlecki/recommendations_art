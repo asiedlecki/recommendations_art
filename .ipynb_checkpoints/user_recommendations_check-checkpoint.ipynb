{
 "cells": [
  {
   "cell_type": "code",
   "execution_count": 1,
   "metadata": {
    "collapsed": true
   },
   "outputs": [],
   "source": [
    "import recommendations as rec\n",
    "import dataset\n",
    "import pandas as pd"
   ]
  },
  {
   "cell_type": "code",
   "execution_count": 2,
   "metadata": {},
   "outputs": [
    {
     "ename": "FileNotFoundError",
     "evalue": "[Errno 2] No such file or directory: 'datasets/similar_movies.json'",
     "output_type": "error",
     "traceback": [
      "\u001b[1;31m---------------------------------------------------------------------------\u001b[0m",
      "\u001b[1;31mFileNotFoundError\u001b[0m                         Traceback (most recent call last)",
      "\u001b[1;32m<ipython-input-2-f85cda21770a>\u001b[0m in \u001b[0;36m<module>\u001b[1;34m()\u001b[0m\n\u001b[1;32m----> 1\u001b[1;33m \u001b[0mmovies\u001b[0m \u001b[1;33m=\u001b[0m \u001b[0mdataset\u001b[0m\u001b[1;33m.\u001b[0m\u001b[0mopenJson\u001b[0m\u001b[1;33m(\u001b[0m\u001b[1;34m'datasets/similar_movies.json'\u001b[0m\u001b[1;33m)\u001b[0m\u001b[1;33m\u001b[0m\u001b[0m\n\u001b[0m\u001b[0;32m      2\u001b[0m \u001b[0mmovies_dict\u001b[0m \u001b[1;33m=\u001b[0m \u001b[0mpd\u001b[0m\u001b[1;33m.\u001b[0m\u001b[0mread_csv\u001b[0m\u001b[1;33m(\u001b[0m\u001b[0mfilepath_or_buffer\u001b[0m\u001b[1;33m=\u001b[0m\u001b[1;34m'datasets/ml-latest/movies.csv'\u001b[0m\u001b[1;33m)\u001b[0m\u001b[1;33m\u001b[0m\u001b[0m\n\u001b[0;32m      3\u001b[0m \u001b[0mmovies_dict\u001b[0m \u001b[1;33m=\u001b[0m \u001b[0mmovies_dict\u001b[0m\u001b[1;33m.\u001b[0m\u001b[0mset_index\u001b[0m\u001b[1;33m(\u001b[0m\u001b[0mkeys\u001b[0m\u001b[1;33m=\u001b[0m\u001b[1;34m'movieId'\u001b[0m\u001b[1;33m)\u001b[0m\u001b[1;33m\u001b[0m\u001b[0m\n\u001b[0;32m      4\u001b[0m \u001b[0mmy_ratings\u001b[0m \u001b[1;33m=\u001b[0m \u001b[0mdataset\u001b[0m\u001b[1;33m.\u001b[0m\u001b[0mloadImdbData\u001b[0m\u001b[1;33m(\u001b[0m\u001b[0mcsv_ratings\u001b[0m\u001b[1;33m=\u001b[0m\u001b[1;34m'datasets/imdb-ratings.csv'\u001b[0m\u001b[1;33m,\u001b[0m \u001b[0mcsv_links\u001b[0m\u001b[1;33m=\u001b[0m\u001b[1;34m'datasets/ml-latest/links.csv'\u001b[0m\u001b[1;33m,\u001b[0m \u001b[0mcsv_movies\u001b[0m\u001b[1;33m=\u001b[0m\u001b[1;34m'datasets/ml-latest/movies.csv'\u001b[0m\u001b[1;33m)\u001b[0m\u001b[1;33m\u001b[0m\u001b[0m\n\u001b[0;32m      5\u001b[0m \u001b[0mresult\u001b[0m \u001b[1;33m=\u001b[0m \u001b[0mrec\u001b[0m\u001b[1;33m.\u001b[0m\u001b[0mgetRecommendedItems\u001b[0m\u001b[1;33m(\u001b[0m\u001b[0muser_prefs\u001b[0m\u001b[1;33m=\u001b[0m\u001b[0mmy_ratings\u001b[0m\u001b[1;33m,\u001b[0m \u001b[0mmovies_sim\u001b[0m\u001b[1;33m=\u001b[0m\u001b[0mmovies\u001b[0m\u001b[1;33m)\u001b[0m\u001b[1;33m\u001b[0m\u001b[0m\n",
      "\u001b[1;32mC:\\Users\\artur\\PycharmProjects\\Recommendations_art\\dataset.py\u001b[0m in \u001b[0;36mopenJson\u001b[1;34m(file)\u001b[0m\n\u001b[0;32m     67\u001b[0m \u001b[1;33m\u001b[0m\u001b[0m\n\u001b[0;32m     68\u001b[0m \u001b[1;32mdef\u001b[0m \u001b[0mopenJson\u001b[0m\u001b[1;33m(\u001b[0m\u001b[0mfile\u001b[0m\u001b[1;33m)\u001b[0m\u001b[1;33m:\u001b[0m\u001b[1;33m\u001b[0m\u001b[0m\n\u001b[1;32m---> 69\u001b[1;33m     \u001b[1;32mwith\u001b[0m \u001b[0mopen\u001b[0m\u001b[1;33m(\u001b[0m\u001b[0mfile\u001b[0m\u001b[1;33m,\u001b[0m \u001b[1;34m'r'\u001b[0m\u001b[1;33m)\u001b[0m \u001b[1;32mas\u001b[0m \u001b[0mfp\u001b[0m\u001b[1;33m:\u001b[0m\u001b[1;33m\u001b[0m\u001b[0m\n\u001b[0m\u001b[0;32m     70\u001b[0m         \u001b[0mdata\u001b[0m \u001b[1;33m=\u001b[0m \u001b[0mjson\u001b[0m\u001b[1;33m.\u001b[0m\u001b[0mload\u001b[0m\u001b[1;33m(\u001b[0m\u001b[0mfp\u001b[0m\u001b[1;33m)\u001b[0m\u001b[1;33m\u001b[0m\u001b[0m\n\u001b[0;32m     71\u001b[0m     \u001b[1;32mreturn\u001b[0m \u001b[0mdata\u001b[0m\u001b[1;33m\u001b[0m\u001b[0m\n",
      "\u001b[1;31mFileNotFoundError\u001b[0m: [Errno 2] No such file or directory: 'datasets/similar_movies.json'"
     ]
    }
   ],
   "source": [
    "movies = dataset.openJson('datasets/similar_movies.json')\n",
    "movies_dict = pd.read_csv(filepath_or_buffer='datasets/ml-latest/movies.csv')\n",
    "movies_dict = movies_dict.set_index(keys='movieId')\n",
    "my_ratings = dataset.loadImdbData(csv_ratings='datasets/imdb-ratings.csv', csv_links='datasets/ml-latest/links.csv', csv_movies='datasets/ml-latest/movies.csv')\n",
    "result = rec.getRecommendedItems(user_prefs=my_ratings, movies_sim=movies)"
   ]
  },
  {
   "cell_type": "code",
   "execution_count": null,
   "metadata": {},
   "outputs": [],
   "source": [
    "labels = ['rating', 'movieId']\n",
    "recs = pd.DataFrame.from_records(result, columns=labels)\n",
    "\n",
    "for i in range(recs.shape[0]):\n",
    "    movieId = recs.at[i, 'movieId']\n",
    "    title = movies_dict.loc[int(movieId), 'title']\n",
    "    genre = movies_dict.loc[int(movieId), 'genres']\n",
    "    recs.at[i, 'link'] = 'https://movielens.org/movies/{0}'.format(movieId)\n",
    "    recs.at[i, 'genres'] = genre\n",
    "    recs.at[i, 'title'] = title\n",
    "    recs.set_index('movieId')\n",
    "\n",
    "# s_titles = pd.Series(data=titles, index=None)\n",
    "# print(s_titles)\n",
    "print(recs[:100])"
   ]
  },
  {
   "cell_type": "code",
   "execution_count": null,
   "metadata": {
    "collapsed": true
   },
   "outputs": [],
   "source": []
  }
 ],
 "metadata": {
  "kernelspec": {
   "display_name": "Python 3",
   "language": "python",
   "name": "python3"
  },
  "language_info": {
   "codemirror_mode": {
    "name": "ipython",
    "version": 3
   },
   "file_extension": ".py",
   "mimetype": "text/x-python",
   "name": "python",
   "nbconvert_exporter": "python",
   "pygments_lexer": "ipython3",
   "version": "3.6.1"
  }
 },
 "nbformat": 4,
 "nbformat_minor": 2
}
