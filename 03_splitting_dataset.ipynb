{
 "cells": [
  {
   "cell_type": "code",
   "execution_count": 1,
   "metadata": {},
   "outputs": [],
   "source": [
    "import numpy as np\n",
    "import pandas as pd\n",
    "import datetime\n",
    "import recommendations as rec\n",
    "import dataset\n",
    "import sys\n",
    "from sklearn.model_selection import train_test_split\n",
    "import random"
   ]
  },
  {
   "cell_type": "code",
   "execution_count": 2,
   "metadata": {},
   "outputs": [],
   "source": [
    "def round_of_rating(number):\n",
    "    \"\"\"\n",
    "    Round a number to the closest half integer.\n",
    "    \"\"\"\n",
    "\n",
    "    return round(number * 2) / 2"
   ]
  },
  {
   "cell_type": "code",
   "execution_count": 3,
   "metadata": {},
   "outputs": [],
   "source": [
    "def dictOfQuantities(prefs):\n",
    "    quan = {}\n",
    "    for key in prefs:\n",
    "        quan[key] = len(prefs[key])\n",
    "            \n",
    "    return quan"
   ]
  },
  {
   "cell_type": "code",
   "execution_count": 4,
   "metadata": {},
   "outputs": [],
   "source": [
    "# on what data perform split?\n",
    "min_user_ratings = 6\n",
    "min_movie_ratings = 69"
   ]
  },
  {
   "cell_type": "code",
   "execution_count": 5,
   "metadata": {},
   "outputs": [],
   "source": [
    "data_file = 'prefs_filtered_u{min_user_ratings}_m{min_movie_ratings}'\\\n",
    "    .format(min_user_ratings=min_user_ratings, min_movie_ratings=min_movie_ratings)"
   ]
  },
  {
   "cell_type": "code",
   "execution_count": 6,
   "metadata": {},
   "outputs": [],
   "source": [
    "prefs_f = dataset.openJson('datasets/{data_file}.json'.format(data_file=data_file))"
   ]
  },
  {
   "cell_type": "code",
   "execution_count": 7,
   "metadata": {},
   "outputs": [],
   "source": [
    "users_f = dataset.transformPrefs(prefs_f)"
   ]
  },
  {
   "cell_type": "code",
   "execution_count": 8,
   "metadata": {},
   "outputs": [
    {
     "data": {
      "text/plain": [
       "248781"
      ]
     },
     "execution_count": 8,
     "metadata": {},
     "output_type": "execute_result"
    }
   ],
   "source": [
    "len(users_f)"
   ]
  },
  {
   "cell_type": "code",
   "execution_count": 9,
   "metadata": {},
   "outputs": [],
   "source": [
    "quan = dictOfQuantities(users_f)"
   ]
  },
  {
   "cell_type": "code",
   "execution_count": 10,
   "metadata": {},
   "outputs": [],
   "source": [
    "users_pd = pd.DataFrame.from_dict(data=quan,\n",
    "                                  orient='index', dtype='uint16',\n",
    "                                  columns=['count'])"
   ]
  },
  {
   "cell_type": "code",
   "execution_count": 11,
   "metadata": {},
   "outputs": [
    {
     "name": "stdout",
     "output_type": "stream",
     "text": [
      "15.3245 MB\n"
     ]
    }
   ],
   "source": [
    "print(round(sys.getsizeof(users_pd)/float(1024**2), 4), 'MB')"
   ]
  },
  {
   "cell_type": "code",
   "execution_count": 12,
   "metadata": {},
   "outputs": [
    {
     "data": {
      "text/plain": [
       "(248781, 1)"
      ]
     },
     "execution_count": 12,
     "metadata": {},
     "output_type": "execute_result"
    }
   ],
   "source": [
    "users_pd.shape"
   ]
  },
  {
   "cell_type": "code",
   "execution_count": 13,
   "metadata": {},
   "outputs": [
    {
     "data": {
      "text/plain": [
       "Index(['count'], dtype='object')"
      ]
     },
     "execution_count": 13,
     "metadata": {},
     "output_type": "execute_result"
    }
   ],
   "source": [
    "users_pd.columns"
   ]
  },
  {
   "cell_type": "code",
   "execution_count": 14,
   "metadata": {},
   "outputs": [
    {
     "data": {
      "text/plain": [
       "pandas.core.frame.DataFrame"
      ]
     },
     "execution_count": 14,
     "metadata": {},
     "output_type": "execute_result"
    }
   ],
   "source": [
    "type(users_pd)"
   ]
  },
  {
   "cell_type": "markdown",
   "metadata": {},
   "source": [
    "#### Calculating label for stratified train-test split"
   ]
  },
  {
   "cell_type": "code",
   "execution_count": 15,
   "metadata": {},
   "outputs": [],
   "source": [
    "stratify_by = 'count'\n",
    "levels = [16, 35, 102]"
   ]
  },
  {
   "cell_type": "code",
   "execution_count": 16,
   "metadata": {},
   "outputs": [],
   "source": [
    "users_pd['label'] = np.select(\n",
    "    [\n",
    "        users_pd[stratify_by].between(0, levels[0], inclusive=True),\n",
    "        users_pd[stratify_by].between(levels[0]+1, levels[1], inclusive=True),\n",
    "        users_pd[stratify_by].between(levels[1]+1, levels[2], inclusive=True),\n",
    "        users_pd[stratify_by].between(levels[2]+1, 1000000, inclusive=True)\n",
    "    ],\n",
    "    [\n",
    "        'q1',\n",
    "        'q2',\n",
    "        'q3',\n",
    "        'q4'\n",
    "    ],\n",
    "    default='unknown'\n",
    ")"
   ]
  },
  {
   "cell_type": "code",
   "execution_count": 17,
   "metadata": {},
   "outputs": [],
   "source": [
    "y = users_pd['label']"
   ]
  },
  {
   "cell_type": "code",
   "execution_count": 18,
   "metadata": {},
   "outputs": [
    {
     "data": {
      "text/plain": [
       "248781"
      ]
     },
     "execution_count": 18,
     "metadata": {},
     "output_type": "execute_result"
    }
   ],
   "source": [
    "len(y)"
   ]
  },
  {
   "cell_type": "code",
   "execution_count": 19,
   "metadata": {},
   "outputs": [
    {
     "data": {
      "text/plain": [
       "100004    q4\n",
       "100008    q4\n",
       "10001     q1\n",
       "100015    q1\n",
       "100018    q1\n",
       "100021    q4\n",
       "100022    q4\n",
       "100039    q3\n",
       "100044    q3\n",
       "100046    q4\n",
       "Name: label, dtype: object"
      ]
     },
     "execution_count": 19,
     "metadata": {},
     "output_type": "execute_result"
    }
   ],
   "source": [
    "y.head(10)"
   ]
  },
  {
   "cell_type": "code",
   "execution_count": 20,
   "metadata": {},
   "outputs": [
    {
     "data": {
      "text/html": [
       "<div>\n",
       "<style scoped>\n",
       "    .dataframe tbody tr th:only-of-type {\n",
       "        vertical-align: middle;\n",
       "    }\n",
       "\n",
       "    .dataframe tbody tr th {\n",
       "        vertical-align: top;\n",
       "    }\n",
       "\n",
       "    .dataframe thead th {\n",
       "        text-align: right;\n",
       "    }\n",
       "</style>\n",
       "<table border=\"1\" class=\"dataframe\">\n",
       "  <thead>\n",
       "    <tr style=\"text-align: right;\">\n",
       "      <th></th>\n",
       "      <th>count</th>\n",
       "      <th>label</th>\n",
       "    </tr>\n",
       "  </thead>\n",
       "  <tbody>\n",
       "    <tr>\n",
       "      <th>100004</th>\n",
       "      <td>282</td>\n",
       "      <td>q4</td>\n",
       "    </tr>\n",
       "    <tr>\n",
       "      <th>100008</th>\n",
       "      <td>307</td>\n",
       "      <td>q4</td>\n",
       "    </tr>\n",
       "    <tr>\n",
       "      <th>10001</th>\n",
       "      <td>11</td>\n",
       "      <td>q1</td>\n",
       "    </tr>\n",
       "    <tr>\n",
       "      <th>100015</th>\n",
       "      <td>13</td>\n",
       "      <td>q1</td>\n",
       "    </tr>\n",
       "    <tr>\n",
       "      <th>100018</th>\n",
       "      <td>16</td>\n",
       "      <td>q1</td>\n",
       "    </tr>\n",
       "    <tr>\n",
       "      <th>100021</th>\n",
       "      <td>2205</td>\n",
       "      <td>q4</td>\n",
       "    </tr>\n",
       "    <tr>\n",
       "      <th>100022</th>\n",
       "      <td>292</td>\n",
       "      <td>q4</td>\n",
       "    </tr>\n",
       "    <tr>\n",
       "      <th>100039</th>\n",
       "      <td>50</td>\n",
       "      <td>q3</td>\n",
       "    </tr>\n",
       "    <tr>\n",
       "      <th>100044</th>\n",
       "      <td>40</td>\n",
       "      <td>q3</td>\n",
       "    </tr>\n",
       "    <tr>\n",
       "      <th>100046</th>\n",
       "      <td>230</td>\n",
       "      <td>q4</td>\n",
       "    </tr>\n",
       "  </tbody>\n",
       "</table>\n",
       "</div>"
      ],
      "text/plain": [
       "        count label\n",
       "100004    282    q4\n",
       "100008    307    q4\n",
       "10001      11    q1\n",
       "100015     13    q1\n",
       "100018     16    q1\n",
       "100021   2205    q4\n",
       "100022    292    q4\n",
       "100039     50    q3\n",
       "100044     40    q3\n",
       "100046    230    q4"
      ]
     },
     "execution_count": 20,
     "metadata": {},
     "output_type": "execute_result"
    }
   ],
   "source": [
    "users_pd[['count', 'label']].head(10)"
   ]
  },
  {
   "cell_type": "code",
   "execution_count": 21,
   "metadata": {},
   "outputs": [],
   "source": [
    "# users_pd.drop(labels=['count', 'label'], axis='columns', inplace=True)"
   ]
  },
  {
   "cell_type": "code",
   "execution_count": 22,
   "metadata": {},
   "outputs": [],
   "source": [
    "# y.hist(bins=4)"
   ]
  },
  {
   "cell_type": "code",
   "execution_count": 23,
   "metadata": {},
   "outputs": [
    {
     "data": {
      "text/plain": [
       "label\n",
       "q1    65527\n",
       "q2    59217\n",
       "q3    61974\n",
       "q4    62063\n",
       "Name: label, dtype: int64"
      ]
     },
     "execution_count": 23,
     "metadata": {},
     "output_type": "execute_result"
    }
   ],
   "source": [
    "y.groupby(by=y).count()"
   ]
  },
  {
   "cell_type": "code",
   "execution_count": 24,
   "metadata": {},
   "outputs": [
    {
     "data": {
      "text/plain": [
       "248781"
      ]
     },
     "execution_count": 24,
     "metadata": {},
     "output_type": "execute_result"
    }
   ],
   "source": [
    "len(y)"
   ]
  },
  {
   "cell_type": "code",
   "execution_count": 25,
   "metadata": {},
   "outputs": [
    {
     "data": {
      "text/plain": [
       "248781"
      ]
     },
     "execution_count": 25,
     "metadata": {},
     "output_type": "execute_result"
    }
   ],
   "source": [
    "len(users_pd)"
   ]
  },
  {
   "cell_type": "markdown",
   "metadata": {},
   "source": [
    "### Performing train-test split"
   ]
  },
  {
   "cell_type": "code",
   "execution_count": 26,
   "metadata": {},
   "outputs": [],
   "source": [
    "test_size = 0.2\n",
    "random_state = 42"
   ]
  },
  {
   "cell_type": "code",
   "execution_count": 27,
   "metadata": {},
   "outputs": [],
   "source": [
    "X_train, X_test, y_train, y_test = train_test_split(users_pd, y,\n",
    "                                                    test_size=test_size,\n",
    "                                                    random_state=random_state,\n",
    "                                                    stratify=y\n",
    "                                                   )"
   ]
  },
  {
   "cell_type": "code",
   "execution_count": 28,
   "metadata": {},
   "outputs": [
    {
     "data": {
      "text/plain": [
       "label\n",
       "q1    52421\n",
       "q2    47374\n",
       "q3    49579\n",
       "q4    49650\n",
       "Name: label, dtype: int64"
      ]
     },
     "execution_count": 28,
     "metadata": {},
     "output_type": "execute_result"
    }
   ],
   "source": [
    "y_train.groupby(y_train).count()"
   ]
  },
  {
   "cell_type": "code",
   "execution_count": 29,
   "metadata": {},
   "outputs": [
    {
     "data": {
      "text/plain": [
       "label\n",
       "q1    13106\n",
       "q2    11843\n",
       "q3    12395\n",
       "q4    12413\n",
       "Name: label, dtype: int64"
      ]
     },
     "execution_count": 29,
     "metadata": {},
     "output_type": "execute_result"
    }
   ],
   "source": [
    "y_test.groupby(y_test).count()"
   ]
  },
  {
   "cell_type": "markdown",
   "metadata": {},
   "source": [
    "### Dump train and test sets to files"
   ]
  },
  {
   "cell_type": "code",
   "execution_count": 30,
   "metadata": {},
   "outputs": [],
   "source": [
    "dataset.savePrefsToJson(target_file='datasets/train_test_sets/test_set_dict_u{min_user_ratings}_m{min_movie_ratings}_str_{stratify_by}_{levels}_ts{test_size}_ran{random_state}.json'\\\n",
    "                        .format(min_user_ratings=min_user_ratings,\n",
    "                                min_movie_ratings=min_movie_ratings,\n",
    "                                stratify_by=stratify_by,\n",
    "                                levels='_'.join([str(x) for x in levels]),\n",
    "                                test_size=int(test_size*100),\n",
    "                                random_state=random_state),\n",
    "                        prefs=X_test.to_dict(orient='index'))"
   ]
  },
  {
   "cell_type": "code",
   "execution_count": 31,
   "metadata": {},
   "outputs": [],
   "source": [
    "dataset.savePrefsToJson(target_file='datasets/train_test_sets/train_set_dict_u{min_user_ratings}_m{min_movie_ratings}_str_{stratify_by}_{levels}_ts{test_size}_ran{random_state}.json'\\\n",
    "                        .format(min_user_ratings=min_user_ratings,\n",
    "                                min_movie_ratings=min_movie_ratings,\n",
    "                                stratify_by=stratify_by,\n",
    "                                levels='_'.join([str(x) for x in levels]),\n",
    "                                test_size=int(test_size*100),\n",
    "                                random_state=random_state),\n",
    "                        prefs=X_train.to_dict(orient='index'))"
   ]
  },
  {
   "cell_type": "markdown",
   "metadata": {},
   "source": [
    "### Inner split of test / train set"
   ]
  },
  {
   "cell_type": "code",
   "execution_count": 44,
   "metadata": {},
   "outputs": [],
   "source": [
    "# what is to be splitted within users? train or test set?\n",
    "part_type = 'test'"
   ]
  },
  {
   "cell_type": "code",
   "execution_count": 45,
   "metadata": {},
   "outputs": [],
   "source": [
    "set_file = '{train_test}_set_dict_u{min_user_ratings}_m{min_movie_ratings}_str_{stratify_by}_{levels}_ts{test_size}_ran{random_state}'\\\n",
    "            .format(train_test=part_type,\n",
    "                    min_user_ratings=min_user_ratings,\n",
    "                    min_movie_ratings=min_movie_ratings,\n",
    "                    stratify_by=stratify_by,\n",
    "                    levels='_'.join([str(x) for x in levels]),\n",
    "                    test_size=int(test_size*100),\n",
    "                    random_state=random_state)"
   ]
  },
  {
   "cell_type": "code",
   "execution_count": 46,
   "metadata": {},
   "outputs": [],
   "source": [
    "X = dataset.openJson(file='datasets/train_test_sets/{set_file}.json'\n",
    "                     .format(set_file=set_file))"
   ]
  },
  {
   "cell_type": "code",
   "execution_count": 47,
   "metadata": {},
   "outputs": [],
   "source": [
    "prefs_f = dataset.openJson('datasets/prefs_filtered_u{min_user_ratings}_m{min_movie_ratings}.json'\\\n",
    "                           .format(min_movie_ratings=min_movie_ratings, min_user_ratings=min_user_ratings))"
   ]
  },
  {
   "cell_type": "code",
   "execution_count": 48,
   "metadata": {},
   "outputs": [],
   "source": [
    "users_f = dataset.transformPrefs(prefs_f)"
   ]
  },
  {
   "cell_type": "code",
   "execution_count": 49,
   "metadata": {},
   "outputs": [],
   "source": [
    "is_perc = 0.2\n",
    "random_state = 42"
   ]
  },
  {
   "cell_type": "code",
   "execution_count": 50,
   "metadata": {},
   "outputs": [
    {
     "name": "stdout",
     "output_type": "stream",
     "text": [
      "start ----- 2019-04-26 17:23:28.913202\n",
      "5000/49757 2019-04-26 17:23:33.710426\n",
      "10000/49757 2019-04-26 17:23:38.413894\n",
      "15000/49757 2019-04-26 17:23:42.398811\n",
      "20000/49757 2019-04-26 17:23:43.945570\n",
      "25000/49757 2019-04-26 17:23:44.570615\n",
      "30000/49757 2019-04-26 17:23:45.008147\n",
      "35000/49757 2019-04-26 17:23:45.336296\n",
      "40000/49757 2019-04-26 17:23:45.555062\n",
      "45000/49757 2019-04-26 17:23:45.711322\n",
      "end ----- 2019-04-26 17:23:45.898818\n"
     ]
    }
   ],
   "source": [
    "users_train, users_test = dataset\\\n",
    "    .usersInnerSplit(set_dict=X, users_prefs=users_f, perc=is_perc, random_state=random_state)"
   ]
  },
  {
   "cell_type": "code",
   "execution_count": 51,
   "metadata": {},
   "outputs": [],
   "source": [
    "# saving train set\n",
    "dataset.savePrefsToJson(target_file='datasets/train_test_sets/{body}_train_is{inner_split_perc}_ran{random_state}.json'\\\n",
    "                        .format(body=set_file,\n",
    "                                inner_split_perc=int(is_perc*100),\n",
    "                                random_state=random_state),\n",
    "                        prefs=users_train)"
   ]
  },
  {
   "cell_type": "code",
   "execution_count": 52,
   "metadata": {},
   "outputs": [],
   "source": [
    "# saving test set\n",
    "dataset.savePrefsToJson(target_file='datasets/train_test_sets/{body}_test_is{inner_split_perc}_ran{random_state}.json'\\\n",
    "                        .format(body=set_file, inner_split_perc=int(is_perc*100),\n",
    "                                random_state=random_state),\n",
    "                        prefs=users_test)"
   ]
  },
  {
   "cell_type": "code",
   "execution_count": null,
   "metadata": {},
   "outputs": [],
   "source": []
  }
 ],
 "metadata": {
  "kernelspec": {
   "display_name": "Python [conda env:recommendations_ar]",
   "language": "python",
   "name": "conda-env-recommendations_ar-py"
  },
  "language_info": {
   "codemirror_mode": {
    "name": "ipython",
    "version": 3
   },
   "file_extension": ".py",
   "mimetype": "text/x-python",
   "name": "python",
   "nbconvert_exporter": "python",
   "pygments_lexer": "ipython3",
   "version": "3.6.8"
  }
 },
 "nbformat": 4,
 "nbformat_minor": 2
}
